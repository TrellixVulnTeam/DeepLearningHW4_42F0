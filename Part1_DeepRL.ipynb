{
 "cells": [
  {
   "cell_type": "markdown",
   "metadata": {},
   "source": [
    "$$\n",
    "\\newcommand{\\mat}[1]{\\boldsymbol {#1}}\n",
    "\\newcommand{\\mattr}[1]{\\boldsymbol {#1}^\\top}\n",
    "\\newcommand{\\matinv}[1]{\\boldsymbol {#1}^{-1}}\n",
    "\\newcommand{\\vec}[1]{\\boldsymbol {#1}}\n",
    "\\newcommand{\\vectr}[1]{\\boldsymbol {#1}^\\top}\n",
    "\\newcommand{\\rvar}[1]{\\mathrm {#1}}\n",
    "\\newcommand{\\rvec}[1]{\\boldsymbol{\\mathrm{#1}}}\n",
    "\\newcommand{\\diag}{\\mathop{\\mathrm {diag}}}\n",
    "\\newcommand{\\set}[1]{\\mathbb {#1}}\n",
    "\\newcommand{\\cset}[1]{\\mathcal{#1}}\n",
    "\\newcommand{\\norm}[1]{\\left\\lVert#1\\right\\rVert}\n",
    "\\newcommand{\\pderiv}[2]{\\frac{\\partial #1}{\\partial #2}}\n",
    "\\newcommand{\\bb}[1]{\\boldsymbol{#1}}\n",
    "\\newcommand{\\E}[2][]{\\mathbb{E}_{#1}\\left[#2\\right]}\n",
    "\\newcommand{\\ip}[3]{\\left<#1,#2\\right>_{#3}}\n",
    "\\newcommand{\\given}[]{\\,\\middle\\vert\\,}\n",
    "\\newcommand{\\DKL}[2]{\\cset{D}_{\\text{KL}}\\left(#1\\,\\Vert\\, #2\\right)}\n",
    "\\newcommand{\\grad}[]{\\nabla}\n",
    "$$\n",
    "# Part 1: Deep Reinforcement Learning\n",
    "<a id=part1></a>"
   ]
  },
  {
   "cell_type": "markdown",
   "metadata": {},
   "source": [
    "In the tutorial we have seen value-based reinforcement learning, in which we learn to approximate the action-value function $q(s,a)$.\n",
    "\n",
    "In this exercise we'll explore a different approach, directly learning the agent's policy distribution, $\\pi(a|s)$\n",
    "by using *policy gradients*, in order to safely land on the moon!"
   ]
  },
  {
   "cell_type": "code",
   "execution_count": 1,
   "metadata": {
    "execution": {
     "iopub.execute_input": "2022-01-18T10:22:18.810358Z",
     "iopub.status.busy": "2022-01-18T10:22:18.809474Z",
     "iopub.status.idle": "2022-01-18T10:22:20.600257Z",
     "shell.execute_reply": "2022-01-18T10:22:20.600712Z"
    }
   },
   "outputs": [],
   "source": [
    "%load_ext autoreload\n",
    "%autoreload 2\n",
    "%matplotlib inline\n",
    "\n",
    "import unittest\n",
    "import os\n",
    "import sys\n",
    "import pathlib\n",
    "import urllib\n",
    "import shutil\n",
    "import re\n",
    "\n",
    "import numpy as np\n",
    "import torch\n",
    "import torch.nn as nn\n",
    "import torch.optim as optim\n",
    "import matplotlib.pyplot as plt"
   ]
  },
  {
   "cell_type": "code",
   "execution_count": 2,
   "metadata": {
    "execution": {
     "iopub.execute_input": "2022-01-18T10:22:20.605298Z",
     "iopub.status.busy": "2022-01-18T10:22:20.604414Z",
     "iopub.status.idle": "2022-01-18T10:22:20.697139Z",
     "shell.execute_reply": "2022-01-18T10:22:20.697519Z"
    }
   },
   "outputs": [
    {
     "name": "stdout",
     "output_type": "stream",
     "text": [
      "Using device: cpu\n"
     ]
    }
   ],
   "source": [
    "test = unittest.TestCase()\n",
    "plt.rcParams.update({'font.size': 12})\n",
    "device = torch.device('cuda' if torch.cuda.is_available() else 'cpu')\n",
    "\n",
    "# Prefer CPU, GPU won't help much in this assignment\n",
    "device = 'cpu'\n",
    "print('Using device:', device)\n",
    "\n",
    "# Seed for deterministic tests\n",
    "SEED = 42"
   ]
  },
  {
   "cell_type": "markdown",
   "metadata": {},
   "source": [
    "Some technical notes before we begin:\n",
    "\n",
    "- This part does not require a GPU. We won't need large models, and the computation bottleneck will be the generation of episodes to train on.\n",
    "- In order to run this notebook on the server, you must prepend the `xvfb-run` command to create a virtual screen. For example,\n",
    "    - to run this notebook with `srun` do\n",
    "        ```\n",
    "        srun -c2 --gres=gpu:1 xvfb-run -a -s \"-screen 0 1440x900x24\" python main.py run-nb <filename>\n",
    "        ```\n",
    "    - To run the submission script, do\n",
    "        ```\n",
    "        srun -c2 xvfb-run -a -s \"-screen 0 1440x900x24\" python main.py prepare-submission ...\n",
    "        ```\n",
    "    - note that we have already included the `xvfb-run` command inside the `jupyter-lab.sh` script, so you can use it as usual with `srun`.\n",
    "    and so on.\n",
    "- The OpenAI `gym` library is not officially supported on windows. However it should be possible to install and run the necessary environment for this exercise. However, we cannot provide you with technical support for this. If you have trouble installing locally, we suggest running on the course server.\n",
    "- When running the `gym` environment locally (i.e. not on the course server), an interactive window should appear, showing you the gameplay. There's currently a known issue when running this through jupyter: the window may remain open and seem stuck after the episode completes. If it happens, this is OK, you can keep running the notebook and the rest of the cells wont be affected. The Window will close properly when you shut down the kernel."
   ]
  },
  {
   "cell_type": "markdown",
   "metadata": {},
   "source": [
    "## Policy gradients\n",
    "<a id=part1_1></a>"
   ]
  },
  {
   "cell_type": "markdown",
   "metadata": {},
   "source": [
    "Recall from the tutorial that we define the **policy** of an agent as the conditional distribution,\n",
    "$$\n",
    "\\pi(a|s) = \\Pr(a_t=a\\vert s_t=s),\n",
    "$$\n",
    "which defines how likely the agent is to take action $a$ at state $s$.\n",
    "\n",
    "Furthermore we define the action-value function,\n",
    "$$\n",
    "q_{\\pi}(s,a) = \\E{g_t(\\tau)|s_t = s,a_t=a,\\pi}\n",
    "$$\n",
    "where \n",
    "$$\n",
    "g_t(\\tau) = r_{t+1}+\\gamma r_{t+2} + \\dots = \\sum_{k=0}^{\\infty} \\gamma^k r_{t+1+k},\n",
    "$$\n",
    "is the total discounted reward of a specific trajectory $\\tau$ from time $t$, and the expectation in $q$ is over all possible\n",
    "trajectories,\n",
    "$\n",
    "\\tau=\\left\\{ (s_0,a_0,r_1,s_1), \\dots (s_T,a_T,r_{T+1},s_{T+1}) \\right\\}.\n",
    "$"
   ]
  },
  {
   "cell_type": "markdown",
   "metadata": {},
   "source": [
    "In the tutorial we saw that we can learn a value function starting with some random function and\n",
    "updating it iteratively by using the **Bellman optimality equation**.\n",
    "Given that we have some action-value function, we can immediately create a policy based on that\n",
    "by simply selecting an action which maximize the action-value at the current state, i.e.\n",
    "$$\n",
    "\\pi(a|s) =\n",
    "\\begin{cases}\n",
    "1, & a = \\arg\\max_{a'\\in\\cset{A}} q(s,a') \\\\\n",
    "0, & \\text{else}\n",
    "\\end{cases}.\n",
    "$$\n",
    "This is called $q$-learning. This approach aims to obtain a policy indirectly through the action-value function.\n",
    "Yet, in most cases we don't actually care about knowing the value of particular states,\n",
    "since all we need is a good policy for our agent. \n",
    "\n",
    "Here we'll take a different approach and learn a policy distribution $\\pi(a|s)$ directly - by using **policy gradients**."
   ]
  },
  {
   "cell_type": "markdown",
   "metadata": {},
   "source": [
    "### Formalism"
   ]
  },
  {
   "cell_type": "markdown",
   "metadata": {},
   "source": [
    "We define a parametric policy, $\\pi_\\vec{\\theta}(a|s)$, and maximize total discounted reward (or minimize the negative reward):\n",
    "$$\n",
    "\\mathcal{L}(\\vec{\\theta})=\\E[\\tau]{-g(\\tau)|\\pi_\\vec{\\theta}} = -\\int g(\\tau)p(\\tau|\\vec{\\theta})d\\tau,\n",
    "$$\n",
    "where $p(\\tau|\\vec{\\theta})$ is the probability of a specific trajectory $\\tau$ under the policy defined by $\\vec{\\theta}$.\n"
   ]
  },
  {
   "cell_type": "markdown",
   "metadata": {},
   "source": [
    "Since we want to find the parameters $\\vec{\\theta}$ which minimize $\\mathcal{L}(\\vec{\\theta})$, we'll compute the gradient w.r.t. $\\vec{\\theta}$:\n",
    "$$\n",
    "\\grad\\mathcal{L}(\\vec{\\theta}) = -\\int g(\\tau)\\grad p(\\tau|\\vec{\\theta})d\\tau.\n",
    "$$\n",
    "\n",
    "Unfortunately, if we try to write $p(\\tau|\\vec{\\theta})$ explicitly,\n",
    "we find that computing it's gradient with respect to $\\vec{\\theta}$ is\n",
    "quite intractable due to a huge product of terms depending on $\\vec{\\theta}$:\n",
    "$$\n",
    "p(\\tau|\\vec{\\theta})=p\\left(\\left\\{ (s_t,a_t,r_{t+1},s_{t+1})\\right\\}_{t\\geq0}\\given\\vec{\\theta}\\right)\n",
    "=p(s_0)\\prod_{t\\geq0} \\pi_{\\vec{\\theta}}(a_t|s_t)p(s_{t+1}|s_t,a_t).\n",
    "$$"
   ]
  },
  {
   "cell_type": "markdown",
   "metadata": {},
   "source": [
    "However, by using the fact that $\\grad_{x}\\log(f(x))=\\frac{\\grad_{x}f(x)}{f(x)}$, we can convert the product into a sum:\n",
    "$$\n",
    "\\begin{align}\n",
    "\\grad\\mathcal{L}(\\vec{\\theta})\n",
    "&= -\\int g(\\tau)\\grad p(\\tau|\\vec{\\theta})d\\tau\n",
    "= -\\int g(\\tau)\\frac{\\grad p(\\tau|\\vec{\\theta})}{p(\\tau|\\vec{\\theta})}p(\\tau|\\vec{\\theta})d\\tau \\\\\n",
    "&= -\\int g(\\tau)\\grad\\log\\left(p(\\tau|\\vec{\\theta})\\right)p(\\tau|\\vec{\\theta})d\\tau \\\\\n",
    "&= -\\int g(\\tau)\\grad\\log\\left( p(s_0)\\prod_{t\\geq0} \\pi_{\\vec{\\theta}}(a_t|s_t)p(s_{t+1}|s_t,a_t) \\right)\n",
    "p(\\tau|\\vec{\\theta})d\\tau \\\\\n",
    "&= -\\int g(\\tau)\\grad\\left( \\log p(s_0) + \\sum_{t\\geq0} \\log \\pi_{\\vec{\\theta}}(a_t|s_t) + \n",
    "\\sum_{t\\geq0}\\log p(s_{t+1}|s_t,a_t) \\right) p(\\tau|\\vec{\\theta})d\\tau \\\\\n",
    "&= -\\int g(\\tau)\\sum_{t\\geq0} \\grad\\log \\pi_{\\vec{\\theta}}(a_t|s_t) p(\\tau|\\vec{\\theta})d\\tau \\\\\n",
    "&= \\E[\\tau]{-g(\\tau)\\sum_{t\\geq0} \\grad\\log \\pi_{\\vec{\\theta}}(a_t|s_t)}.\n",
    "\\end{align}\n",
    "$$"
   ]
  },
  {
   "cell_type": "markdown",
   "metadata": {},
   "source": [
    "This is the \"vanilla\" version of the policy gradient. We can interpret is as a weighted log-likelihood function.\n",
    "The log-policy is the log-likelihood term we wish to maximize and the total discounted reward acts as a weight: high-return positive\n",
    "trajectories will cause the probability of actions taken during them to increase, and negative-return trajectories will cause the\n",
    "probabilities of actions taken to decrease.\n",
    "\n",
    "In the following figures we see three trajectories: high-return positive-reward (green), low-return positive-reward (yellow) and negative-return (red) and the action probabilities along the trajectories after the update. Credit: Sergey Levine.\n",
    "\n",
    "|<strong></strong>||\n",
    "|-----| ----|\n",
    "|<img src=\"imgs/pg1.png\" height=\"200\">|<img src=\"imgs/pg2.png\" height=\"200\">|\n"
   ]
  },
  {
   "cell_type": "markdown",
   "metadata": {},
   "source": [
    "The major drawback of the policy-gradient is it's high variance, which causes erratic optimization behavior and therefore slow convergence.\n",
    "One reason for this is that the log-policy weight term, $g(\\tau)$ can vary wildly between different trajectories, even if they're similar in\n",
    "actions. Later on we'll implement the loss and explore some methods of variance reduction."
   ]
  },
  {
   "cell_type": "markdown",
   "metadata": {},
   "source": [
    "### Landing on the moon with policy gradients"
   ]
  },
  {
   "cell_type": "markdown",
   "metadata": {},
   "source": [
    "In the spirit of the recent achievements of the Israeli space industry,\n",
    "we'll apply our reinforcement learning skills to solve a simple game called **LunarLander**.\n",
    "\n",
    "This game is available as an `environment` in OpenAI `gym`.\n",
    "\n",
    "<video loop autoplay src=\"http://gym.openai.com/videos/2019-04-06--My9IiAbqha/LunarLander-v2/original.mp4\" />"
   ]
  },
  {
   "cell_type": "markdown",
   "metadata": {},
   "source": [
    "In this environment, you need to control the lander and get it to land safely on the moon.\n",
    "To do so, you must apply bottom, right or left thrusters (each are either fully on or fully off)\n",
    "and get it to land within the designated zone as quickly as possible and with minimal wasted fuel."
   ]
  },
  {
   "cell_type": "code",
   "execution_count": 3,
   "metadata": {
    "execution": {
     "iopub.execute_input": "2022-01-18T10:22:20.702860Z",
     "iopub.status.busy": "2022-01-18T10:22:20.701768Z",
     "iopub.status.idle": "2022-01-18T10:22:21.015693Z",
     "shell.execute_reply": "2022-01-18T10:22:21.016185Z"
    }
   },
   "outputs": [],
   "source": [
    "import gym\n",
    "\n",
    "# Just for fun :) ... but also to re-define the default max number of steps\n",
    "ENV_NAME = 'Beresheet-v2'\n",
    "MAX_EPISODE_STEPS = 300\n",
    "if ENV_NAME not in gym.envs.registry.env_specs:\n",
    "    gym.register(\n",
    "        id=ENV_NAME,\n",
    "        entry_point='gym.envs.box2d:LunarLander',\n",
    "        max_episode_steps=MAX_EPISODE_STEPS,\n",
    "        reward_threshold=200,\n",
    "    )"
   ]
  },
  {
   "cell_type": "code",
   "execution_count": 4,
   "metadata": {
    "execution": {
     "iopub.execute_input": "2022-01-18T10:22:21.020846Z",
     "iopub.status.busy": "2022-01-18T10:22:21.019674Z",
     "iopub.status.idle": "2022-01-18T10:22:21.056682Z",
     "shell.execute_reply": "2022-01-18T10:22:21.057077Z"
    }
   },
   "outputs": [
    {
     "name": "stdout",
     "output_type": "stream",
     "text": [
      "<TimeLimit<LunarLander<Beresheet-v2>>>\n",
      "observations space: Box([-inf -inf -inf -inf -inf -inf -inf -inf], [inf inf inf inf inf inf inf inf], (8,), float32)\n",
      "action space: Discrete(4)\n"
     ]
    }
   ],
   "source": [
    "import gym\n",
    "\n",
    "env = gym.make(ENV_NAME)\n",
    "\n",
    "print(env)\n",
    "print(f'observations space: {env.observation_space}')\n",
    "print(f'action space: {env.action_space}')\n",
    "\n",
    "ENV_N_ACTIONS = env.action_space.n\n",
    "ENV_N_OBSERVATIONS = env.observation_space.shape[0]"
   ]
  },
  {
   "cell_type": "markdown",
   "metadata": {},
   "source": [
    "The observations at each step is the Lander's position, velocity, angle, angular velocity and ground contact state.\n",
    "The actions are no-op, fire left truster, bottom thruster and right thruster.\n",
    "\n",
    "You are **highly encouraged** to read the [documentation](https://github.com/openai/gym/blob/master/gym/envs/box2d/lunar_lander.py) in the source code of the `LunarLander` environment to understand the reward system,\n",
    "and see how the actions and observations are created."
   ]
  },
  {
   "cell_type": "markdown",
   "metadata": {},
   "source": [
    "### Policy network and Agent"
   ]
  },
  {
   "cell_type": "markdown",
   "metadata": {},
   "source": [
    "Let's start with our policy-model. This will be a simple neural net, which should take an observation and return a score for each possible action."
   ]
  },
  {
   "cell_type": "markdown",
   "metadata": {},
   "source": [
    "**TODO**:\n",
    "1. Implement all methods in the `PolicyNet` class in the `hw4/rl_pg.py` module.\n",
    "   Start small. A simple MLP with a few hidden layers is a good starting point. You can come back and change it later based on the the experiments.  \n",
    "   Notice that we'll use the `build_for_env` method to instantiate a `PolicyNet` based on the configuration of a given environment.\n",
    "2. If you need hyperparameters to configure your model (e.g. number of hidden layers, sizes, etc.), add them in `part1_pg_hyperparams()` in `hw4/answers.py`."
   ]
  },
  {
   "cell_type": "code",
   "execution_count": 5,
   "metadata": {
    "execution": {
     "iopub.execute_input": "2022-01-18T10:22:21.061472Z",
     "iopub.status.busy": "2022-01-18T10:22:21.060666Z",
     "iopub.status.idle": "2022-01-18T10:22:21.092086Z",
     "shell.execute_reply": "2022-01-18T10:22:21.092458Z"
    }
   },
   "outputs": [
    {
     "data": {
      "text/plain": [
       "PolicyNet(\n",
       "  (sequence): Sequential(\n",
       "    (0): Linear(in_features=8, out_features=1024, bias=True)\n",
       "    (1): ReLU()\n",
       "    (2): Dropout(p=0.1, inplace=False)\n",
       "    (3): Linear(in_features=1024, out_features=512, bias=True)\n",
       "    (4): ReLU()\n",
       "    (5): Dropout(p=0.1, inplace=False)\n",
       "    (6): Linear(in_features=512, out_features=256, bias=True)\n",
       "    (7): ReLU()\n",
       "    (8): Dropout(p=0.1, inplace=False)\n",
       "    (9): Linear(in_features=256, out_features=128, bias=True)\n",
       "    (10): ReLU()\n",
       "    (11): Dropout(p=0.1, inplace=False)\n",
       "    (12): Linear(in_features=128, out_features=4, bias=True)\n",
       "  )\n",
       ")"
      ]
     },
     "execution_count": 5,
     "metadata": {},
     "output_type": "execute_result"
    }
   ],
   "source": [
    "import hw4.rl_pg as hw4pg\n",
    "import hw4.answers\n",
    "\n",
    "hp = hw4.answers.part1_pg_hyperparams()\n",
    "\n",
    "# You can add keyword-args to this function which will be populated from the\n",
    "# hyperparameters dict.\n",
    "p_net = hw4pg.PolicyNet.build_for_env(env, device, **hp)\n",
    "p_net"
   ]
  },
  {
   "cell_type": "markdown",
   "metadata": {},
   "source": [
    "Now we need an **agent**. The purpose of our agent will be to act according to the current policy and generate experiences.\n",
    "Our `PolicyAgent` will use a `PolicyNet` as the current policy function.\n",
    "\n",
    "\n",
    "We'll also define some extra datatypes to help us represent the data generated by our agent.\n",
    "You can find the `Experience`, `Episode` and `TrainBatch` datatypes in the `hw4/rl_data.py` module."
   ]
  },
  {
   "cell_type": "markdown",
   "metadata": {},
   "source": [
    "**TODO**: Implement the `current_action_distribution()` method of the `PolicyAgent` class in the `hw4/rl_pg.py` module."
   ]
  },
  {
   "cell_type": "code",
   "execution_count": 6,
   "metadata": {
    "execution": {
     "iopub.execute_input": "2022-01-18T10:22:21.097161Z",
     "iopub.status.busy": "2022-01-18T10:22:21.096317Z",
     "iopub.status.idle": "2022-01-18T10:22:21.128327Z",
     "shell.execute_reply": "2022-01-18T10:22:21.129175Z"
    }
   },
   "outputs": [
    {
     "name": "stdout",
     "output_type": "stream",
     "text": [
      "tensor([0.2539, 0.2484, 0.2521, 0.2456])\n"
     ]
    }
   ],
   "source": [
    "for i in range (10):\n",
    "    agent = hw4pg.PolicyAgent(env, p_net, device)\n",
    "    d = agent.current_action_distribution()\n",
    "    \n",
    "    test.assertSequenceEqual(d.shape, (env.action_space.n,))\n",
    "    test.assertAlmostEqual(d.sum(), 1.0, delta=1e-5)\n",
    "    \n",
    "print(d)"
   ]
  },
  {
   "cell_type": "markdown",
   "metadata": {},
   "source": [
    "**TODO**: Implement the `step()` method of the `PolicyAgent`."
   ]
  },
  {
   "cell_type": "code",
   "execution_count": 7,
   "metadata": {
    "execution": {
     "iopub.execute_input": "2022-01-18T10:22:21.133099Z",
     "iopub.status.busy": "2022-01-18T10:22:21.131776Z",
     "iopub.status.idle": "2022-01-18T10:22:21.169041Z",
     "shell.execute_reply": "2022-01-18T10:22:21.169917Z"
    }
   },
   "outputs": [
    {
     "name": "stdout",
     "output_type": "stream",
     "text": [
      "Experience(state=tensor([ 0.0059,  1.4086,  0.6018, -0.1027, -0.0069, -0.1363,  0.0000,  0.0000]), action=2, reward=-1.6758552117016905, is_done=False)\n"
     ]
    }
   ],
   "source": [
    "agent = hw4pg.PolicyAgent(env, p_net, device)\n",
    "exp = agent.step()\n",
    "\n",
    "test.assertIsInstance(exp, hw4pg.Experience)\n",
    "print(exp)"
   ]
  },
  {
   "cell_type": "markdown",
   "metadata": {},
   "source": [
    "To test our agent, we'll write some code that allows it to play an environment. We'll use the `Monitor`\n",
    "wrapper in `gym` to generate a video of the episode for visual debugging."
   ]
  },
  {
   "cell_type": "markdown",
   "metadata": {},
   "source": [
    "**TODO**: Complete the implementation of the `monitor_episode()` method of the `PolicyAgent`."
   ]
  },
  {
   "cell_type": "code",
   "execution_count": 8,
   "metadata": {
    "execution": {
     "iopub.execute_input": "2022-01-18T10:22:21.173942Z",
     "iopub.status.busy": "2022-01-18T10:22:21.172711Z",
     "iopub.status.idle": "2022-01-18T10:22:23.646236Z",
     "shell.execute_reply": "2022-01-18T10:22:23.646649Z"
    }
   },
   "outputs": [
    {
     "name": "stderr",
     "output_type": "stream",
     "text": [
      "C:\\Users\\user\\anaconda3\\envs\\cs236781-hw4\\lib\\site-packages\\pyglet\\image\\codecs\\wic.py:289: UserWarning: [WinError -2147417850] Cannot change thread mode after it is set\n",
      "  warnings.warn(str(err))\n"
     ]
    }
   ],
   "source": [
    "env, n_steps, reward = agent.monitor_episode(ENV_NAME, p_net, device=device)"
   ]
  },
  {
   "cell_type": "markdown",
   "metadata": {},
   "source": [
    "To display the Monitor video in this notebook, we'll use a helper function from our `jupyter_utils` and a small wrapper that extracts the path of the last video file. "
   ]
  },
  {
   "cell_type": "code",
   "execution_count": 9,
   "metadata": {
    "execution": {
     "iopub.execute_input": "2022-01-18T10:22:23.652450Z",
     "iopub.status.busy": "2022-01-18T10:22:23.651284Z",
     "iopub.status.idle": "2022-01-18T10:22:23.680660Z",
     "shell.execute_reply": "2022-01-18T10:22:23.681083Z"
    }
   },
   "outputs": [],
   "source": [
    "import cs236781.jupyter_utils as jupyter_utils\n",
    "\n",
    "def show_monitor_video(monitor_env, idx=0, **kw):\n",
    "    # Extract video path\n",
    "    video_path = monitor_env.videos[idx][0]\n",
    "    video_path = os.path.relpath(video_path, start=os.path.curdir)\n",
    "    \n",
    "    # Use helper function to embed the video\n",
    "    return jupyter_utils.show_video_in_notebook(video_path, **kw)"
   ]
  },
  {
   "cell_type": "code",
   "execution_count": 10,
   "metadata": {
    "execution": {
     "iopub.execute_input": "2022-01-18T10:22:23.684996Z",
     "iopub.status.busy": "2022-01-18T10:22:23.684152Z",
     "iopub.status.idle": "2022-01-18T10:22:23.707928Z",
     "shell.execute_reply": "2022-01-18T10:22:23.708337Z"
    }
   },
   "outputs": [
    {
     "name": "stdout",
     "output_type": "stream",
     "text": [
      "Episode ran for 86 steps. Total reward: -133.54\n"
     ]
    },
    {
     "data": {
      "text/html": [
       "<video src=\"data:video/mp4;base64,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\" controls autoplay width=\"500\" height=\"auto\" />"
      ],
      "text/plain": [
       "<IPython.core.display.HTML object>"
      ]
     },
     "execution_count": 10,
     "metadata": {},
     "output_type": "execute_result"
    }
   ],
   "source": [
    "print(f'Episode ran for {n_steps} steps. Total reward: {reward:.2f}')\n",
    "\n",
    "show_monitor_video(env, idx=0)"
   ]
  },
  {
   "cell_type": "markdown",
   "metadata": {},
   "source": [
    "### Training data"
   ]
  },
  {
   "cell_type": "markdown",
   "metadata": {},
   "source": [
    "The next step is to create data to train on.\n",
    "We need to train on batches of state-action pairs, so that our network can learn to predict the actions.\n",
    "\n",
    "We'll split this task into three parts:\n",
    "1. Generate a batch of `Episode`s, by using an `Agent` that's playing according to our current policy network.\n",
    "   Each `Episode` object contains the `Experience` objects created by the agent.\n",
    "2. Calculate the total discounted reward for each state we encountered and action we took. This is our action-value estimate.\n",
    "3. Convert the `Episode`s into a batch of tensors to train on.\n",
    "   Each batch will contain states, action taken per state, reward accrued, and the calculated estimated state-values.\n",
    "   These will be stored in a `TrainBatch` object.\n"
   ]
  },
  {
   "cell_type": "markdown",
   "metadata": {},
   "source": [
    "**TODO**: Complete the implementation of the `episode_batch_generator()` method in the `TrainBatchDataset` class within the `hw4.rl_data` module. This will address part 1 in the list above."
   ]
  },
  {
   "cell_type": "code",
   "execution_count": 11,
   "metadata": {
    "execution": {
     "iopub.execute_input": "2022-01-18T10:22:23.714137Z",
     "iopub.status.busy": "2022-01-18T10:22:23.713337Z",
     "iopub.status.idle": "2022-01-18T10:22:24.214955Z",
     "shell.execute_reply": "2022-01-18T10:22:24.215460Z"
    }
   },
   "outputs": [
    {
     "name": "stdout",
     "output_type": "stream",
     "text": [
      "First episode: Episode(total_reward=-101.80, #experences=64)\n"
     ]
    }
   ],
   "source": [
    "import hw4.rl_data as hw4data\n",
    "\n",
    "def agent_fn():\n",
    "    env = gym.make(ENV_NAME)\n",
    "    hp = hw4.answers.part1_pg_hyperparams()\n",
    "    p_net = hw4pg.PolicyNet.build_for_env(env, device, **hp)\n",
    "    return hw4pg.PolicyAgent(env, p_net, device)\n",
    "    \n",
    "ds = hw4data.TrainBatchDataset(agent_fn, episode_batch_size=8, gamma=0.9)\n",
    "batch_gen = ds.episode_batch_generator()\n",
    "b = next(batch_gen)\n",
    "print('First episode:', b[0])\n",
    "\n",
    "test.assertEqual(len(b), 8)\n",
    "for ep in b:\n",
    "    test.assertIsInstance(ep, hw4data.Episode)\n",
    "    \n",
    "    # Check that it's a full episode\n",
    "    is_done = [exp.is_done for exp in ep.experiences]\n",
    "    test.assertFalse(any(is_done[0:-1]))\n",
    "    test.assertTrue(is_done[-1])"
   ]
  },
  {
   "cell_type": "markdown",
   "metadata": {},
   "source": [
    "**TODO**: Complete the implementation of the `calc_qvals()` method in the `Episode` class.\n",
    "This will address part 2.\n",
    "These q-values are an estimate of the actual action value function: $$\\hat{q}_{t} = \\sum_{t'\\geq t} \\gamma^{t'-t}r_{t'+1}.$$"
   ]
  },
  {
   "cell_type": "code",
   "execution_count": 12,
   "metadata": {
    "execution": {
     "iopub.execute_input": "2022-01-18T10:22:24.218948Z",
     "iopub.status.busy": "2022-01-18T10:22:24.218130Z",
     "iopub.status.idle": "2022-01-18T10:22:24.258907Z",
     "shell.execute_reply": "2022-01-18T10:22:24.259363Z"
    }
   },
   "outputs": [],
   "source": [
    "np.random.seed(SEED)\n",
    "test_rewards = np.random.randint(-10, 10, 100)\n",
    "test_experiences = [hw4pg.Experience(None,None,r,False) for r in test_rewards] \n",
    "test_episode = hw4data.Episode(np.sum(test_rewards), test_experiences)\n",
    "\n",
    "qvals = test_episode.calc_qvals(0.9)\n",
    "qvals = list(qvals)\n",
    "\n",
    "expected_qvals = np.load(os.path.join('tests', 'assets', 'part1_expected_qvals.npy'))\n",
    "for i in range(len(test_rewards)):\n",
    "    test.assertAlmostEqual(expected_qvals[i], qvals[i], delta=1e-3)"
   ]
  },
  {
   "cell_type": "markdown",
   "metadata": {},
   "source": [
    "**TODO**: Complete the implementation of the `from_episodes()` method in the `TrainBatch` class.\n",
    "This will address part 3.\n",
    "\n",
    "Notes:\n",
    "- The `TrainBatchDataset` class provides a generator function that will use the above function to lazily generate batches of training samples and labels on demand.\n",
    "- This allows us to use a standard `PyTorch` dataloader to wrap our Dataset and provide us with parallel data loading for free!\n",
    "  This means we can run multiple environments with multiple agents in separate background processes to generate data for training and thus prevent the data loading bottleneck which is caused by the fact that we must generate full Episodes to train on in order to calculate the q-values.\n",
    "- We'll set the `DataLoader`'s `batch_size` to `None` because we have already implemented custom batching in our dataset.\n",
    "- You can choose the number of worker processes generating data using the `num_workers` parameter in the hyperparams dict. Set `num_workers=0` to disable parallelization."
   ]
  },
  {
   "cell_type": "code",
   "execution_count": 13,
   "metadata": {
    "execution": {
     "iopub.execute_input": "2022-01-18T10:22:24.262619Z",
     "iopub.status.busy": "2022-01-18T10:22:24.261799Z",
     "iopub.status.idle": "2022-01-18T10:22:26.132363Z",
     "shell.execute_reply": "2022-01-18T10:22:26.132818Z"
    }
   },
   "outputs": [
    {
     "name": "stdout",
     "output_type": "stream",
     "text": [
      "#0: TrainBatch(states: torch.Size([726, 8]), actions: torch.Size([726]), q_vals: torch.Size([726])), num_episodes: 8)\n",
      "\n",
      "#1: TrainBatch(states: torch.Size([744, 8]), actions: torch.Size([744]), q_vals: torch.Size([744])), num_episodes: 8)\n",
      "\n",
      "#2: TrainBatch(states: torch.Size([897, 8]), actions: torch.Size([897]), q_vals: torch.Size([897])), num_episodes: 8)\n",
      "\n"
     ]
    }
   ],
   "source": [
    "from torch.utils.data import DataLoader\n",
    "\n",
    "hp = hw4.answers.part1_pg_hyperparams()\n",
    "\n",
    "ds = hw4data.TrainBatchDataset(agent_fn, episode_batch_size=8, gamma=0.9)\n",
    "dl = DataLoader(\n",
    "    ds,\n",
    "    batch_size=None,\n",
    "    num_workers=hp['num_workers'],\n",
    "    multiprocessing_context='fork' if hp['num_workers'] > 0 else None\n",
    ")\n",
    "\n",
    "\n",
    "for i, train_batch in enumerate(dl):\n",
    "    states, actions, qvals, reward_mean = train_batch\n",
    "    print(f'#{i}: {train_batch}', end=\"\\n\\n\")\n",
    "    test.assertEqual(states.shape[0], actions.shape[0])\n",
    "    test.assertEqual(qvals.shape[0], actions.shape[0])\n",
    "    test.assertEqual(states.shape[1], env.observation_space.shape[0])\n",
    "    if i > 1:\n",
    "        break"
   ]
  },
  {
   "cell_type": "markdown",
   "metadata": {},
   "source": [
    "### Loss functions"
   ]
  },
  {
   "cell_type": "markdown",
   "metadata": {},
   "source": [
    "As usual, we need a loss function to optimize over.\n",
    "We'll calculate three types of losses:\n",
    "1. The causal vanilla policy gradient loss.\n",
    "1. The policy gradient loss, with a baseline to reduce variance.\n",
    "2. An entropy-based loss whos purpose is to diversify the agent's action selection,\n",
    "   and prevent it from being \"too sure\" about its actions.\n",
    "   This loss will be used together with one of the above losses."
   ]
  },
  {
   "cell_type": "markdown",
   "metadata": {},
   "source": [
    "#### Causal vanilla policy-gradient"
   ]
  },
  {
   "cell_type": "markdown",
   "metadata": {},
   "source": [
    "We have derived the policy-gradient as\n",
    "$$\n",
    "\\grad\\mathcal{L}(\\vec{\\theta}) = \\E[\\tau]{-g(\\tau)\\sum_{t\\geq0} \\grad\\log \\pi_{\\vec{\\theta}}(a_t|s_t)}.\n",
    "$$\n",
    "\n",
    "By writing the discounted reward explicitly and enforcing causality, i.e. the action taken at time $t$ can't affect\n",
    "the reward at time $t'<t$, we can get a slightly lower-variance version of the policy gradient:\n",
    "\n",
    "$$\n",
    "\\grad\\mathcal{L}_{\\text{PG}}(\\vec{\\theta}) = \n",
    "\\E[\\tau]{-\\sum_{t\\geq0} \\left(\\sum_{t'\\geq t} \\gamma^{t'-t}r_{t'+1} \\right)\\grad\\log \\pi_{\\vec{\\theta}}(a_t|s_t)}.\n",
    "$$"
   ]
  },
  {
   "cell_type": "markdown",
   "metadata": {},
   "source": [
    "In practice, the expectation over trajectories is calculated using a Monte-Carlo approach, i.e. simply sampling $N$\n",
    "trajectories and average the term inside the expectation. Therefore, we will use the following estimated version of the policy gradient:\n",
    "\n",
    "$$\n",
    "\\begin{align}\n",
    "\\hat\\grad\\mathcal{L}_{\\text{PG}}(\\vec{\\theta})\n",
    "&=-\\frac{1}{N}\\sum_{i=1}^{N}\\sum_{t\\geq0} \\left(\\sum_{t'\\geq t} \\gamma^{t'-t}r_{i,t'+1} \\right)\\grad\\log \\pi_{\\vec{\\theta}}(a_{i,t}|s_{i,t}) \\\\\n",
    "&=-\\frac{1}{N}\\sum_{i=1}^{N}\\sum_{t\\geq0} \\hat{q}_{i,t} \\grad\\log \\pi_{\\vec{\\theta}}(a_{i,t}|s_{i,t}).\n",
    "\\end{align}\n",
    "$$\n",
    "\n",
    "Note the use of the notation $\\hat{q}_{i,t}$ to represent the estimated action-value at time $t$ in the sampled trajectory $i$.\n",
    "Here $\\hat{q}_{i,t}$ is acting as the weight-term for the policy gradient."
   ]
  },
  {
   "cell_type": "markdown",
   "metadata": {},
   "source": [
    "**TODO**: Complete the implementation of the `VanillaPolicyGradientLoss` class in the `hw4/rl_pg.py` module."
   ]
  },
  {
   "cell_type": "code",
   "execution_count": 14,
   "metadata": {
    "execution": {
     "iopub.execute_input": "2022-01-18T10:22:26.139509Z",
     "iopub.status.busy": "2022-01-18T10:22:26.138677Z",
     "iopub.status.idle": "2022-01-18T10:22:26.341624Z",
     "shell.execute_reply": "2022-01-18T10:22:26.342129Z"
    }
   },
   "outputs": [
    {
     "name": "stdout",
     "output_type": "stream",
     "text": [
      "test_batch=TrainBatch(states: torch.Size([375, 8]), actions: torch.Size([375]), q_vals: torch.Size([375])), num_episodes: 4)\n",
      "\n",
      "test_action_scores=\n",
      "tensor([[ 0.8932,  0.4749,  0.8569, -0.7365],\n",
      "        [-0.7853,  1.0901, -0.0665,  1.2573],\n",
      "        [ 0.0867, -1.2705, -0.1987, -0.4103],\n",
      "        ...,\n",
      "        [-0.7778, -2.4352,  0.1117,  0.9482],\n",
      "        [-1.4593, -0.0609, -0.1148,  1.5804],\n",
      "        [ 1.2975, -0.3326, -1.0626,  0.3869]])\n",
      "shape=torch.Size([375, 4])\n",
      "\n",
      "loss_p=tensor(-48.5605)\n"
     ]
    }
   ],
   "source": [
    "# Ensure deterministic run\n",
    "env = gym.make(ENV_NAME)\n",
    "env.seed(SEED)\n",
    "torch.manual_seed(SEED)\n",
    "\n",
    "def agent_fn():\n",
    "    # Use a simple \"network\" here, so that this test doesn't depend on\n",
    "    # your specific PolicyNet implementation\n",
    "    p_net_test = nn.Linear(ENV_N_OBSERVATIONS, ENV_N_ACTIONS, bias=True)\n",
    "    agent = hw4pg.PolicyAgent(env, p_net_test)\n",
    "    return agent\n",
    "\n",
    "dataloader = hw4data.TrainBatchDataset(agent_fn, gamma=0.9, episode_batch_size=4)\n",
    "\n",
    "test_batch = next(iter(dataloader))\n",
    "test_action_scores = torch.randn(len(test_batch), env.action_space.n)\n",
    "print(f\"{test_batch=}\", end='\\n\\n')\n",
    "print(f\"test_action_scores=\\n{test_action_scores}\\nshape={test_action_scores.shape}\", end='\\n\\n')\n",
    "\n",
    "loss_fn_p = hw4pg.VanillaPolicyGradientLoss()\n",
    "loss_p, _ = loss_fn_p(test_batch, test_action_scores)\n",
    "\n",
    "print(f'{loss_p=}')\n",
    "test.assertAlmostEqual(loss_p.item(), -48.560, delta=1e-2)"
   ]
  },
  {
   "cell_type": "markdown",
   "metadata": {},
   "source": [
    "#### Policy-gradient with baseline"
   ]
  },
  {
   "cell_type": "markdown",
   "metadata": {},
   "source": [
    "Another way to reduce the variance of our gradient is to use relative weighting of the log-policy instead of absolute reward values.\n",
    "$$\n",
    "\\hat\\grad\\mathcal{L}_{\\text{BPG}}(\\vec{\\theta})\n",
    "=-\\frac{1}{N}\\sum_{i=1}^{N}\\sum_{t\\geq0} \\left(\\hat{q}_{i,t}-b\\right) \\grad\\log \\pi_{\\vec{\\theta}}(a_{i,t}|s_{i,t}).\n",
    "$$\n",
    "In other words, we don't measure a trajectory's worth by it's total reward, but by how much better that total reward is relative to some\n",
    "expected (\"baseline\") reward value, denoted above by $b$.\n",
    "Note that subtracting a baseline has no effect on the expected value of the policy gradient. It's easy to prove this directly by definition.\n",
    "\n",
    "Here we'll implement a very simple baseline (not optimal in terms of variance reduction): the average of the estimated state-values $\\hat{q}_{i,t}$."
   ]
  },
  {
   "cell_type": "markdown",
   "metadata": {},
   "source": [
    "**TODO**: Complete the implementation of the `BaselinePolicyGradientLoss` class in the `hw4/rl_pg.py` module."
   ]
  },
  {
   "cell_type": "code",
   "execution_count": 15,
   "metadata": {
    "execution": {
     "iopub.execute_input": "2022-01-18T10:22:26.345840Z",
     "iopub.status.busy": "2022-01-18T10:22:26.344959Z",
     "iopub.status.idle": "2022-01-18T10:22:26.385001Z",
     "shell.execute_reply": "2022-01-18T10:22:26.385550Z"
    }
   },
   "outputs": [
    {
     "name": "stdout",
     "output_type": "stream",
     "text": [
      "loss_dict={'loss_p': 1.2976937294006348, 'baseline': -29.84126091003418}\n"
     ]
    }
   ],
   "source": [
    "# Using the same batch and action_scores from above cell\n",
    "loss_fn_p = hw4pg.BaselinePolicyGradientLoss()\n",
    "loss_p, loss_dict = loss_fn_p(test_batch, test_action_scores)\n",
    "\n",
    "print(f'{loss_dict=}')\n",
    "test.assertAlmostEqual(loss_dict['baseline'], -29.841, delta=1e-2)\n",
    "test.assertAlmostEqual(loss_p.item(), 1.297, delta=1e-2)"
   ]
  },
  {
   "cell_type": "markdown",
   "metadata": {},
   "source": [
    "#### Entropy loss"
   ]
  },
  {
   "cell_type": "markdown",
   "metadata": {},
   "source": [
    "The entropy of a probability distribution (in our case the policy), is\n",
    "$$\n",
    "H(\\pi) = -\\sum_{a} \\pi(a|s)\\log\\pi(a|s).\n",
    "$$\n",
    "The entropy is always positive and obtains it's maximum for a uniform distribution.\n",
    "We'll use the entropy of the policy as a bonus, i.e. we'll try to maximize it.\n",
    "The idea is the prevent the policy distribution from becoming too narrow and thus promote the agent's exploration."
   ]
  },
  {
   "cell_type": "markdown",
   "metadata": {},
   "source": [
    "First, we'll calculate the maximal possible entropy value of the action distribution for a set number of possible actions.\n",
    "This will be used as a normalization term.\n",
    "\n",
    "**TODO**: Complete the implementation of the `calc_max_entropy()` method in the `ActionEntropyLoss` class."
   ]
  },
  {
   "cell_type": "code",
   "execution_count": 21,
   "metadata": {
    "execution": {
     "iopub.execute_input": "2022-01-18T10:22:26.389063Z",
     "iopub.status.busy": "2022-01-18T10:22:26.388209Z",
     "iopub.status.idle": "2022-01-18T10:22:26.423908Z",
     "shell.execute_reply": "2022-01-18T10:22:26.424415Z"
    }
   },
   "outputs": [
    {
     "name": "stdout",
     "output_type": "stream",
     "text": [
      "max_entropy =  1.3862943611198906\n"
     ]
    }
   ],
   "source": [
    "loss_fn_e = hw4pg.ActionEntropyLoss(env.action_space.n)\n",
    "print('max_entropy = ', loss_fn_e.max_entropy)\n",
    "\n",
    "test.assertAlmostEqual(loss_fn_e.max_entropy, 1.38629436, delta=1e-3)"
   ]
  },
  {
   "cell_type": "markdown",
   "metadata": {},
   "source": [
    "**TODO**: Complete the implementation of the `forward()` method in the `ActionEntropyLoss` class."
   ]
  },
  {
   "cell_type": "code",
   "execution_count": null,
   "metadata": {
    "execution": {
     "iopub.execute_input": "2022-01-18T10:22:26.429185Z",
     "iopub.status.busy": "2022-01-18T10:22:26.428083Z",
     "iopub.status.idle": "2022-01-18T10:22:26.461832Z",
     "shell.execute_reply": "2022-01-18T10:22:26.462275Z"
    }
   },
   "outputs": [],
   "source": [
    "loss_e, _ = loss_fn_e(test_batch, test_action_scores)\n",
    "print('loss = ', loss_e)\n",
    "\n",
    "test.assertAlmostEqual(loss_e.item(), -0.8103, delta=1e-2)"
   ]
  },
  {
   "cell_type": "markdown",
   "metadata": {},
   "source": [
    "### Training"
   ]
  },
  {
   "cell_type": "markdown",
   "metadata": {},
   "source": [
    "We'll implement our training procedure as follows:\n",
    "\n",
    "1. Initialize the current policy to be a random policy.\n",
    "1. Sample $N$ trajectories from the environment using the current policy.\n",
    "2. Calculate the estimated $q$-values, $\\hat{q}_{i,t} = \\sum_{t'\\geq t} \\gamma^{t'}r_{i,t'+1}$ for each trajectory $i$.\n",
    "3. Calculate policy gradient estimate $\\hat\\grad\\mathcal{L}(\\vec{\\theta})$ as defined above.\n",
    "4. Perform SGD update $\\vec{\\theta}\\leftarrow\\vec{\\theta}-\\eta\\hat\\grad\\mathcal{L}(\\vec{\\theta})$.\n",
    "5. Repeat from step 2.\n",
    "\n",
    "This is known as the **REINFORCE** algorithm."
   ]
  },
  {
   "cell_type": "markdown",
   "metadata": {},
   "source": [
    "Fortunately, we've already implemented everything we need for steps 1-4 so we need only a bit more code to put it all together.\n",
    "\n",
    "The following block implements a wrapper, `train_pg` to create all the objects we need in order to train our policy gradient model.\n"
   ]
  },
  {
   "cell_type": "code",
   "execution_count": null,
   "metadata": {
    "execution": {
     "iopub.execute_input": "2022-01-18T10:22:26.465651Z",
     "iopub.status.busy": "2022-01-18T10:22:26.464805Z",
     "iopub.status.idle": "2022-01-18T10:22:26.512305Z",
     "shell.execute_reply": "2022-01-18T10:22:26.513016Z"
    }
   },
   "outputs": [],
   "source": [
    "import hw4.answers\n",
    "from functools import partial\n",
    "\n",
    "ENV_NAME = \"Beresheet-v2\"\n",
    "\n",
    "def agent_fn_train(agent_type, p_net, seed, envs_dict):\n",
    "    winfo = torch.utils.data.get_worker_info()\n",
    "    wid = winfo.id if winfo else 0\n",
    "    seed = seed + wid if seed else wid\n",
    "\n",
    "    env = gym.make(ENV_NAME)\n",
    "    envs_dict[wid] = env\n",
    "    env.seed(seed)\n",
    "    np.random.seed(seed)\n",
    "    torch.manual_seed(seed)\n",
    "\n",
    "    return agent_type(env, p_net)\n",
    "\n",
    "def train_rl(agent_type, net_type, loss_fns, hp, seed=None, checkpoints_file=None, **train_kw):\n",
    "    print(f'hyperparams: {hp}')\n",
    "    \n",
    "    envs = {}\n",
    "    p_net = net_type(ENV_N_OBSERVATIONS, ENV_N_ACTIONS, **hp)\n",
    "    p_net.share_memory()\n",
    "    agent_fn = partial(agent_fn_train, agent_type, p_net, seed, envs)\n",
    "    \n",
    "    dataset = hw4data.TrainBatchDataset(agent_fn, hp['batch_size'], hp['gamma'])\n",
    "    dataloader = DataLoader(\n",
    "        dataset, batch_size=None,\n",
    "        num_workers=hp['num_workers'],\n",
    "        multiprocessing_context='fork' if hp['num_workers'] > 0 else None\n",
    "    )\n",
    "    optimizer = optim.Adam(p_net.parameters(), lr=hp['learn_rate'], eps=hp['eps'])\n",
    "    \n",
    "    trainer = hw4pg.PolicyTrainer(p_net, optimizer, loss_fns, dataloader, checkpoints_file)\n",
    "    try:\n",
    "        trainer.train(**train_kw)\n",
    "    except KeyboardInterrupt as e:\n",
    "        print('Training interrupted by user.')\n",
    "    finally:\n",
    "        for env in envs.values():\n",
    "            env.close()\n",
    "\n",
    "    # Include final model state\n",
    "    training_data = trainer.training_data\n",
    "    training_data['model_state'] = p_net.state_dict()\n",
    "    return training_data\n",
    "    \n",
    "def train_pg(baseline=False, entropy=False, **train_kwargs):\n",
    "    hp = hw4.answers.part1_pg_hyperparams()\n",
    "    \n",
    "    loss_fns = []\n",
    "    if baseline:\n",
    "        loss_fns.append(hw4pg.BaselinePolicyGradientLoss())\n",
    "    else:\n",
    "        loss_fns.append(hw4pg.VanillaPolicyGradientLoss())\n",
    "    if entropy:\n",
    "        loss_fns.append(hw4pg.ActionEntropyLoss(ENV_N_ACTIONS, hp['beta']))\n",
    "\n",
    "    return train_rl(hw4pg.PolicyAgent, hw4pg.PolicyNet, loss_fns, hp, **train_kwargs)"
   ]
  },
  {
   "cell_type": "markdown",
   "metadata": {},
   "source": [
    "The `PolicyTrainer` class implements the training loop, collects the losses and rewards and provides some useful checkpointing functionality.\n",
    "The training loop will generate batches of episodes and train on them until either:\n",
    "- The average total reward from the last `running_mean_len` episodes is greater than the `target_reward`, OR\n",
    "- The number of generated episodes reached `max_episodes`.\n",
    "\n",
    "Most of this class is already implemented for you. "
   ]
  },
  {
   "cell_type": "markdown",
   "metadata": {},
   "source": [
    "**TODO**:\n",
    "1. Complete the training loop by implementing the `train_batch()` method of the `PolicyTrainer`.\n",
    "2. Tweak the hyperparameters in the `part1_pg_hyperparams()` function within the `hw4/answers.py` module as needed. You get some sane defaults."
   ]
  },
  {
   "cell_type": "markdown",
   "metadata": {},
   "source": [
    "Let's check whether our model is actually training.\n",
    "We'll try to reach a very low (bad) target reward, just as a sanity check to see that training works.\n",
    "Your model should be able to reach this target reward within a few batches.\n",
    "\n",
    "You can increase the target reward and use this block to manually tweak your model and hyperparameters a few times."
   ]
  },
  {
   "cell_type": "code",
   "execution_count": null,
   "metadata": {
    "execution": {
     "iopub.execute_input": "2022-01-18T10:22:26.517930Z",
     "iopub.status.busy": "2022-01-18T10:22:26.517137Z",
     "iopub.status.idle": "2022-01-18T10:22:35.261012Z",
     "shell.execute_reply": "2022-01-18T10:22:35.261399Z"
    }
   },
   "outputs": [],
   "source": [
    "target_reward = -140 # VERY LOW target\n",
    "train_data = train_pg(target_reward=target_reward, seed=SEED, max_episodes=2000, running_mean_len=10)\n",
    "\n",
    "test.assertGreater(train_data['mean_reward'][-1], target_reward)"
   ]
  },
  {
   "cell_type": "markdown",
   "metadata": {},
   "source": [
    "### Experimenting with different losses"
   ]
  },
  {
   "cell_type": "markdown",
   "metadata": {},
   "source": [
    "We'll now run a few experiments to see the effect of diferent loss functions on the training dynamics. Namely, we'll try:\n",
    "1. Vanilla PG (`vpg`): No baseline, no entropy\n",
    "2. Baseline PG (`bpg`): Baseline, no entropy loss\n",
    "3. Entropy PG (`epg`): No baseline, with entropy loss\n",
    "3. Combined PG (`cpg`): Baseline, with entropy loss"
   ]
  },
  {
   "cell_type": "code",
   "execution_count": null,
   "metadata": {
    "execution": {
     "iopub.execute_input": "2022-01-18T10:22:35.266492Z",
     "iopub.status.busy": "2022-01-18T10:22:35.265924Z",
     "iopub.status.idle": "2022-01-18T10:22:35.474289Z",
     "shell.execute_reply": "2022-01-18T10:22:35.474694Z"
    }
   },
   "outputs": [],
   "source": [
    "from collections import namedtuple\n",
    "from pprint import pprint\n",
    "import itertools as it\n",
    "\n",
    "\n",
    "ExpConfig = namedtuple('ExpConfig', ('name','baseline','entropy'))\n",
    "\n",
    "def exp_configs():\n",
    "    exp_names = ('vpg', 'epg', 'bpg', 'cpg')\n",
    "    z = zip(exp_names, it.product((False, True), (False, True)))\n",
    "    return (ExpConfig(n, b, e) for (n, (b, e)) in z)\n",
    "\n",
    "pprint(list(exp_configs()))"
   ]
  },
  {
   "cell_type": "markdown",
   "metadata": {},
   "source": [
    "We'll save the training data from each experiment for plotting."
   ]
  },
  {
   "cell_type": "code",
   "execution_count": null,
   "metadata": {
    "execution": {
     "iopub.execute_input": "2022-01-18T10:22:35.479827Z",
     "iopub.status.busy": "2022-01-18T10:22:35.478733Z",
     "iopub.status.idle": "2022-01-18T10:22:35.503254Z",
     "shell.execute_reply": "2022-01-18T10:22:35.502834Z"
    }
   },
   "outputs": [],
   "source": [
    "import pickle\n",
    "\n",
    "def dump_training_data(data, filename):\n",
    "    os.makedirs(os.path.dirname(filename), exist_ok=True)\n",
    "    with open(filename, mode='wb') as file:\n",
    "        pickle.dump(data, file)\n",
    "        \n",
    "def load_training_data(filename):\n",
    "    with open(filename, mode='rb') as file:\n",
    "        return pickle.load(file)"
   ]
  },
  {
   "cell_type": "markdown",
   "metadata": {},
   "source": [
    "Let's run the experiments! We'll run each configuration for a fixed number of episodes so that we can compare them.\n",
    "\n",
    "Notes:\n",
    "1. Until your models start working, you can decrease the number of episodes for each experiment, or only run one experiment.\n",
    "2.  The results will be saved in a file. To re-run the experiments, you can set `force_run` to `True`."
   ]
  },
  {
   "cell_type": "code",
   "execution_count": null,
   "metadata": {
    "execution": {
     "iopub.execute_input": "2022-01-18T10:22:35.508776Z",
     "iopub.status.busy": "2022-01-18T10:22:35.507513Z",
     "iopub.status.idle": "2022-01-18T10:22:35.535526Z",
     "shell.execute_reply": "2022-01-18T10:22:35.535929Z"
    }
   },
   "outputs": [],
   "source": [
    "import math\n",
    "\n",
    "exp_max_episodes = 4000\n",
    "\n",
    "results = {}\n",
    "training_data_filename = os.path.join('results', f'part1_exp.dat')\n",
    "\n",
    "# Set to True to force re-run (careful! will delete old experiment results)\n",
    "force_run = False\n",
    "\n",
    "# Skip running if results file exists.\n",
    "if os.path.isfile(training_data_filename) and not force_run:\n",
    "    print(f'=== results file {training_data_filename} exists, skipping experiments.')\n",
    "    results = load_training_data(training_data_filename)\n",
    "    \n",
    "else:\n",
    "    for n, b, e in exp_configs():\n",
    "        print(f'=== Experiment {n}')\n",
    "        results[n] = train_pg(baseline=b, entropy=e, max_episodes=exp_max_episodes, post_batch_fn=None)\n",
    "        \n",
    "    dump_training_data(results, training_data_filename)"
   ]
  },
  {
   "cell_type": "code",
   "execution_count": null,
   "metadata": {
    "execution": {
     "iopub.execute_input": "2022-01-18T10:22:35.541685Z",
     "iopub.status.busy": "2022-01-18T10:22:35.540832Z",
     "iopub.status.idle": "2022-01-18T10:22:36.402314Z",
     "shell.execute_reply": "2022-01-18T10:22:36.401870Z"
    }
   },
   "outputs": [],
   "source": [
    "def plot_experiment_results(results, fig=None):\n",
    "    if fig is None:\n",
    "        fig, _ = plt.subplots(nrows=2, ncols=2, sharex=True, figsize=(18,12))\n",
    "    for i, plot_type in enumerate(('loss_p', 'baseline', 'loss_e', 'mean_reward')):\n",
    "        ax = fig.axes[i]\n",
    "        for exp_name, exp_res in results.items():\n",
    "            if plot_type not in exp_res:\n",
    "                continue\n",
    "            ax.plot(exp_res['episode_num'], exp_res[plot_type], label=exp_name)\n",
    "        ax.set_title(plot_type)\n",
    "        ax.set_xlabel('episode')\n",
    "        ax.legend()\n",
    "    return fig\n",
    "    \n",
    "experiments_results_fig = plot_experiment_results(results)"
   ]
  },
  {
   "cell_type": "markdown",
   "metadata": {},
   "source": [
    "You should see positive training dynamics in the graphs (reward going up).\n",
    "If you don't, use them to further update your model or hyperparams.\n",
    "\n",
    "To pass the test, you'll need to get a best total mean reward of at least 10 in the fixed number of epochs using the combined loss.\n",
    "It's possible to get much higher (over 100)."
   ]
  },
  {
   "cell_type": "code",
   "execution_count": null,
   "metadata": {
    "execution": {
     "iopub.execute_input": "2022-01-18T10:22:36.405955Z",
     "iopub.status.busy": "2022-01-18T10:22:36.405452Z",
     "iopub.status.idle": "2022-01-18T10:22:36.430762Z",
     "shell.execute_reply": "2022-01-18T10:22:36.430350Z"
    }
   },
   "outputs": [],
   "source": [
    "best_cpg_mean_reward = max(results['cpg']['mean_reward'])\n",
    "print(f'Best CPG mean reward: {best_cpg_mean_reward:.2f}')\n",
    "\n",
    "test.assertGreater(best_cpg_mean_reward, 10)"
   ]
  },
  {
   "cell_type": "markdown",
   "metadata": {},
   "source": [
    "Now let's take a look at a gameplay video of our `cpg` model after the short training!"
   ]
  },
  {
   "cell_type": "code",
   "execution_count": null,
   "metadata": {
    "execution": {
     "iopub.execute_input": "2022-01-18T10:22:36.435478Z",
     "iopub.status.busy": "2022-01-18T10:22:36.434442Z",
     "iopub.status.idle": "2022-01-18T10:22:41.781602Z",
     "shell.execute_reply": "2022-01-18T10:22:41.781983Z"
    }
   },
   "outputs": [],
   "source": [
    "hp = hw4.answers.part1_pg_hyperparams()\n",
    "p_net_cpg = hw4pg.PolicyNet.build_for_env(env, **hp)\n",
    "p_net_cpg.load_state_dict(results['cpg']['model_state'])\n",
    "\n",
    "env, n_steps, reward = hw4pg.PolicyAgent.monitor_episode(ENV_NAME, p_net_cpg)\n",
    "print(f'{n_steps} steps, total reward: {reward:.2f}')\n",
    "show_monitor_video(env)"
   ]
  },
  {
   "cell_type": "markdown",
   "metadata": {},
   "source": [
    "## Advantage Actor-Critic (AAC)\n",
    "<a id=part1_2></a>"
   ]
  },
  {
   "cell_type": "markdown",
   "metadata": {},
   "source": [
    "We have seen that the policy-gradient loss can be interpreted as a log-likelihood of the policy term\n",
    "(selecting a specific action at a specific state), weighted by the future rewards of that choice of action.\n",
    "\n",
    "However, naïvely weighting by rewards has significant drawbacks in terms of the variance of the resulting gradient.\n",
    "We addressed this by adding a simple baseline term which represented our \"expected reward\" so that we increase probability of actions\n",
    "leading to trajectories which exceed this expectation and vice-versa.\n",
    "\n",
    "In this part we'll explore a more powerful baseline, which is the idea behind the AAC method."
   ]
  },
  {
   "cell_type": "markdown",
   "metadata": {},
   "source": [
    "### The advantage function"
   ]
  },
  {
   "cell_type": "markdown",
   "metadata": {},
   "source": [
    "Recall the definition of the state-value function $v_{\\pi}(s)$ and action-value function $q_{\\pi}(s,a)$:\n",
    "\n",
    "$$\n",
    "\\begin{align}\n",
    "v_{\\pi}(s) &= \\E{g(\\tau)|s_0 = s,\\pi} \\\\\n",
    "q_{\\pi}(s,a) &= \\E{g(\\tau)|s_0 = s,a_0=a,\\pi}.\n",
    "\\end{align}\n",
    "$$\n",
    "\n",
    "Both these functions represent the value of the state $s$. However, $v_\\pi$ averages over the first action according to the policy,\n",
    "while $q_\\pi$ fixes the first action and then continues according to the policy."
   ]
  },
  {
   "cell_type": "markdown",
   "metadata": {},
   "source": [
    "Their difference is known as the **advantage function**:\n",
    "$$\n",
    "a_\\pi(s,a) = q_\\pi(s,a)-v_\\pi(s).\n",
    "$$\n",
    "\n",
    "If $a_\\pi(s,a)>0$ it means that it's better (in expectation) to take action $a$ in state $s$ compared to the average action.\n",
    "In other words, $a_\\pi(s,a)$ represents the *advantage* of using action $a$ in state $s$ compared to the others."
   ]
  },
  {
   "cell_type": "markdown",
   "metadata": {},
   "source": [
    "So far we have used an estimate for $q_\\pi$ as our weighting term for the log-policy, with a fixed baseline per batch.\n",
    "\n",
    "$$\n",
    "\\hat\\grad\\mathcal{L}_{\\text{BPG}}(\\vec{\\theta})\n",
    "=-\\frac{1}{N}\\sum_{i=1}^{N}\\sum_{t\\geq0} \\left(\\hat{q}_{i,t}-b\\right) \\grad\\log \\pi_{\\vec{\\theta}}(a_{i,t}|s_{i,t}).\n",
    "$$\n"
   ]
  },
  {
   "cell_type": "markdown",
   "metadata": {},
   "source": [
    "Now, we will use the state value as a baseline, so that an estimate of the advantage function is our weighting term:\n",
    "\n",
    "$$\n",
    "\\hat\\grad\\mathcal{L}_{\\text{AAC}}(\\vec{\\theta})\n",
    "=-\\frac{1}{N}\\sum_{i=1}^{N}\\sum_{t\\geq0} \\left(\\hat{q}_{i,t}-v_\\pi(s_t)\\right) \\grad\\log \\pi_{\\vec{\\theta}}(a_{i,t}|s_{i,t}).\n",
    "$$\n",
    "\n",
    "Intuitively, using the advantage function makes sense because it means we're weighting our policy's actions according to\n",
    "how advantageous they are compared to other possible actions."
   ]
  },
  {
   "cell_type": "markdown",
   "metadata": {},
   "source": [
    "But how will we know $v_\\pi(s)$? We'll learn it of course, using another neural network.\n",
    "This is known as actor-critic learning. We simultaneously learn the policy (actor) and the value of states (critic).\n",
    "We'll treat it as a regression task: given a state $s_t$, our state-value network will output $\\hat{v}_\\pi(s_t)$,\n",
    "an estimate of the actual unknown state-value.\n",
    "Our regression targets will be the discounted rewards, $\\hat{q}_{i,t}$ (see question 2),\n",
    "and we can use a simple MSE as the loss function,\n",
    "$$\n",
    "\\mathcal{L}_{\\text{SV}} = \\frac{1}{N}\\sum_{i=1}^{N}\\sum_{t\\geq0}\\left(\\hat{v}_\\pi(s_t) - \\hat{q}_{i,t}\\right)^2.\n",
    "$$\n"
   ]
  },
  {
   "cell_type": "markdown",
   "metadata": {},
   "source": [
    "### Implementation"
   ]
  },
  {
   "cell_type": "markdown",
   "metadata": {},
   "source": [
    "We'll build heavily on our implementation of the regular policy-gradient method, and just add a new model class and a new loss class, with a small modification to the agent."
   ]
  },
  {
   "cell_type": "markdown",
   "metadata": {},
   "source": [
    "Let's start with the model. It will accept a state, and return action scores (as before), but also the value of that state.\n",
    "You can experiment with a dual-head network that has a shared base, or implement two separate parts within the network.\n",
    "\n",
    "**TODO**:\n",
    "1. Implement the model as the `AACPolicyNet` class in the `hw4/rl_ac.py` module.\n",
    "1. Set the hyperparameters in the `part1_aac_hyperparams()` function of the `hw4.answers` module."
   ]
  },
  {
   "cell_type": "code",
   "execution_count": null,
   "metadata": {
    "execution": {
     "iopub.execute_input": "2022-01-18T10:22:41.787450Z",
     "iopub.status.busy": "2022-01-18T10:22:41.786433Z",
     "iopub.status.idle": "2022-01-18T10:22:42.023641Z",
     "shell.execute_reply": "2022-01-18T10:22:42.024019Z"
    }
   },
   "outputs": [],
   "source": [
    "import hw4.rl_ac as hw4ac\n",
    "\n",
    "hp = hw4.answers.part1_aac_hyperparams()\n",
    "pv_net = hw4ac.AACPolicyNet.build_for_env(env, device, **hp)\n",
    "pv_net"
   ]
  },
  {
   "cell_type": "markdown",
   "metadata": {},
   "source": [
    "**TODO**: Complete the implementation of the agent class, `AACPolicyAgent`, in the `hw4/rl_ac.py` module."
   ]
  },
  {
   "cell_type": "code",
   "execution_count": null,
   "metadata": {
    "execution": {
     "iopub.execute_input": "2022-01-18T10:22:42.028246Z",
     "iopub.status.busy": "2022-01-18T10:22:42.027471Z",
     "iopub.status.idle": "2022-01-18T10:22:42.056848Z",
     "shell.execute_reply": "2022-01-18T10:22:42.056415Z"
    }
   },
   "outputs": [],
   "source": [
    "agent = hw4ac.AACPolicyAgent(env, pv_net, device)\n",
    "exp = agent.step()\n",
    "\n",
    "test.assertIsInstance(exp, hw4pg.Experience)\n",
    "print(exp)"
   ]
  },
  {
   "cell_type": "markdown",
   "metadata": {},
   "source": [
    "**TODO**: Implement the AAC loss function as the class `AACPolicyGradientLoss` in the `hw4/rl_ac.py` module."
   ]
  },
  {
   "cell_type": "code",
   "execution_count": null,
   "metadata": {
    "execution": {
     "iopub.execute_input": "2022-01-18T10:22:42.063254Z",
     "iopub.status.busy": "2022-01-18T10:22:42.062457Z",
     "iopub.status.idle": "2022-01-18T10:22:42.105992Z",
     "shell.execute_reply": "2022-01-18T10:22:42.105239Z"
    }
   },
   "outputs": [],
   "source": [
    "loss_fn_aac = hw4ac.AACPolicyGradientLoss(delta=1.)\n",
    "test_state_values = torch.ones(test_action_scores.shape[0], 1)\n",
    "loss_t, loss_dict = loss_fn_aac(test_batch, (test_action_scores, test_state_values))\n",
    "\n",
    "print(f'{loss_dict=}')\n",
    "test.assertAlmostEqual(loss_dict['adv_m'], -30.841, delta=1e-2)\n",
    "test.assertAlmostEqual(loss_t.item(), 1466.830, delta=1e-2)"
   ]
  },
  {
   "cell_type": "markdown",
   "metadata": {},
   "source": [
    "### Experimentation"
   ]
  },
  {
   "cell_type": "markdown",
   "metadata": {},
   "source": [
    "Let's run the same experiment as before, but with the AAC method and compare the results."
   ]
  },
  {
   "cell_type": "code",
   "execution_count": null,
   "metadata": {
    "execution": {
     "iopub.execute_input": "2022-01-18T10:22:42.113401Z",
     "iopub.status.busy": "2022-01-18T10:22:42.112108Z",
     "iopub.status.idle": "2022-01-18T10:22:42.154777Z",
     "shell.execute_reply": "2022-01-18T10:22:42.155936Z"
    }
   },
   "outputs": [],
   "source": [
    "def train_aac(baseline=False, entropy=False, **train_kwargs):\n",
    "    hp = hw4.answers.part1_aac_hyperparams()\n",
    "    loss_fns = [hw4ac.AACPolicyGradientLoss(hp['delta']), hw4pg.ActionEntropyLoss(ENV_N_ACTIONS, hp['beta'])]\n",
    "    return train_rl(hw4ac.AACPolicyAgent, hw4ac.AACPolicyNet, loss_fns, hp, **train_kwargs)"
   ]
  },
  {
   "cell_type": "code",
   "execution_count": null,
   "metadata": {
    "execution": {
     "iopub.execute_input": "2022-01-18T10:22:42.161332Z",
     "iopub.status.busy": "2022-01-18T10:22:42.159638Z",
     "iopub.status.idle": "2022-01-18T10:22:42.210983Z",
     "shell.execute_reply": "2022-01-18T10:22:42.212129Z"
    }
   },
   "outputs": [],
   "source": [
    "training_data_filename = os.path.join('results', f'part1_exp_aac.dat')\n",
    "\n",
    "# Set to True to force re-run (careful, will delete old experiment results)\n",
    "force_run = False\n",
    "\n",
    "if os.path.isfile(training_data_filename) and not force_run:\n",
    "    print(f'=== results file {training_data_filename} exists, skipping experiments.')\n",
    "    results_aac = load_training_data(training_data_filename)\n",
    "    \n",
    "else:\n",
    "    print(f'=== Running AAC experiment')\n",
    "    training_data = train_aac(max_episodes=exp_max_episodes)\n",
    "    results_aac = dict(aac=training_data)\n",
    "    dump_training_data(results_aac, training_data_filename)"
   ]
  },
  {
   "cell_type": "code",
   "execution_count": null,
   "metadata": {
    "execution": {
     "iopub.execute_input": "2022-01-18T10:22:42.217391Z",
     "iopub.status.busy": "2022-01-18T10:22:42.215697Z",
     "iopub.status.idle": "2022-01-18T10:22:43.074046Z",
     "shell.execute_reply": "2022-01-18T10:22:43.073627Z"
    }
   },
   "outputs": [],
   "source": [
    "experiments_results_fig = plot_experiment_results(results)\n",
    "plot_experiment_results(results_aac, fig=experiments_results_fig);"
   ]
  },
  {
   "cell_type": "markdown",
   "metadata": {},
   "source": [
    "You should get better results with the AAC method, so this time the bar is higher (again, you should aim for a mean reward of 100+).\n",
    "Compare the graphs with combined PG method and see if they make sense."
   ]
  },
  {
   "cell_type": "code",
   "execution_count": null,
   "metadata": {
    "execution": {
     "iopub.execute_input": "2022-01-18T10:22:43.077997Z",
     "iopub.status.busy": "2022-01-18T10:22:43.077122Z",
     "iopub.status.idle": "2022-01-18T10:22:43.115285Z",
     "shell.execute_reply": "2022-01-18T10:22:43.115660Z"
    }
   },
   "outputs": [],
   "source": [
    "best_aac_mean_reward = max(results_aac['aac']['mean_reward'])\n",
    "print(f'Best AAC mean reward: {best_aac_mean_reward:.2f}')\n",
    "\n",
    "test.assertGreater(best_aac_mean_reward, 50)"
   ]
  },
  {
   "cell_type": "markdown",
   "metadata": {},
   "source": [
    "### Final model training and visualization"
   ]
  },
  {
   "cell_type": "markdown",
   "metadata": {},
   "source": [
    "Now, using your best model and hyperparams, let's train model for much longer and see the performance.\n",
    "Just for fun, we'll also visualize an episode every now and then so that we can see how well the agent is playing."
   ]
  },
  {
   "cell_type": "markdown",
   "metadata": {},
   "source": [
    "**TODO**:\n",
    "- Run the following block to train.\n",
    "- Tweak model or hyperparams as necessary.\n",
    "- Aim for high mean reward, at least 150+. It's possible to get over 200.\n",
    "- When training is done and you're satisfied with the model's outputs, rename the checkpoint file by adding `_final` to the file name.\n",
    "  This will cause the block to skip training and instead load your saved model when running the homework submission script.\n",
    "  Note that your submission zip file will not include the checkpoint file. This is OK."
   ]
  },
  {
   "cell_type": "code",
   "execution_count": null,
   "metadata": {
    "execution": {
     "iopub.execute_input": "2022-01-18T10:22:43.125135Z",
     "iopub.status.busy": "2022-01-18T10:22:43.123960Z",
     "iopub.status.idle": "2022-01-18T10:22:47.363573Z",
     "shell.execute_reply": "2022-01-18T10:22:47.363958Z"
    }
   },
   "outputs": [],
   "source": [
    "import IPython.display\n",
    "\n",
    "CHECKPOINTS_FILE = f'checkpoints/{ENV_NAME}-ac.dat'\n",
    "CHECKPOINTS_FILE_FINAL = f'checkpoints/{ENV_NAME}-ac_final.dat'\n",
    "TARGET_REWARD = 125\n",
    "MAX_EPISODES = 15_000\n",
    "\n",
    "def post_batch_fn(batch_idx, p_net, batch, print_every=20, final=False):\n",
    "    if not final and batch_idx % print_every != 0:\n",
    "        return\n",
    "    env, n_steps, reward = hw4ac.AACPolicyAgent.monitor_episode(ENV_NAME, p_net)\n",
    "    html = show_monitor_video(env, width=\"500\")\n",
    "    IPython.display.clear_output(wait=True)\n",
    "    print(f'Monitor@#{batch_idx}: n_steps={n_steps}, total_reward={reward:.3f}, final={final}')\n",
    "    IPython.display.display_html(html)\n",
    "    \n",
    "    \n",
    "if os.path.isfile(CHECKPOINTS_FILE_FINAL):\n",
    "    print(f'=== {CHECKPOINTS_FILE_FINAL} exists, skipping training...')\n",
    "    checkpoint_data = torch.load(CHECKPOINTS_FILE_FINAL)\n",
    "    hp = hw4.answers.part1_aac_hyperparams()\n",
    "    pv_net = hw4ac.AACPolicyNet.build_for_env(env, **hp)\n",
    "    pv_net.load_state_dict(checkpoint_data['params'])\n",
    "    print(f'=== Running best model...')\n",
    "    env, n_steps, reward = hw4ac.AACPolicyAgent.monitor_episode(ENV_NAME, pv_net)\n",
    "    print(f'=== Best model ran for {n_steps} steps. Total reward: {reward:.2f}')\n",
    "    IPython.display.display_html(show_monitor_video(env))\n",
    "    best_mean_reward = checkpoint_data[\"best_mean_reward\"]\n",
    "else:\n",
    "    print(f'=== Starting training...')\n",
    "    train_data = train_aac(TARGET_REWARD, max_episodes=MAX_EPISODES,\n",
    "                           seed=None, checkpoints_file=CHECKPOINTS_FILE, post_batch_fn=post_batch_fn)\n",
    "    print(f'=== Done, ', end='')\n",
    "    best_mean_reward = train_data[\"best_mean_reward\"][-1]\n",
    "    print(f'num_episodes={train_data[\"episode_num\"][-1]}, best_mean_reward={best_mean_reward:.1f}')\n",
    "          \n",
    "test.assertGreaterEqual(best_mean_reward, TARGET_REWARD)"
   ]
  },
  {
   "cell_type": "markdown",
   "metadata": {
    "tags": []
   },
   "source": [
    "## Questions\n",
    "<a id=part1_3></a>"
   ]
  },
  {
   "cell_type": "markdown",
   "metadata": {},
   "source": [
    "**TODO**: Answer the following questions. Write your answers in the appropriate variables in the module `hw4/answers.py`."
   ]
  },
  {
   "cell_type": "code",
   "execution_count": null,
   "metadata": {
    "execution": {
     "iopub.execute_input": "2022-01-18T10:22:47.368956Z",
     "iopub.status.busy": "2022-01-18T10:22:47.367842Z",
     "iopub.status.idle": "2022-01-18T10:22:47.400356Z",
     "shell.execute_reply": "2022-01-18T10:22:47.399959Z"
    }
   },
   "outputs": [],
   "source": [
    "from cs236781.answers import display_answer\n",
    "import hw4.answers"
   ]
  },
  {
   "cell_type": "markdown",
   "metadata": {},
   "source": [
    "### Question 1\n",
    "\n",
    "Explain qualitatively why subtracting a baseline in the policy-gradient helps reduce it's variance.\n",
    "Specifically, give an example where it helps."
   ]
  },
  {
   "cell_type": "code",
   "execution_count": null,
   "metadata": {
    "execution": {
     "iopub.execute_input": "2022-01-18T10:22:47.404210Z",
     "iopub.status.busy": "2022-01-18T10:22:47.403430Z",
     "iopub.status.idle": "2022-01-18T10:22:47.425848Z",
     "shell.execute_reply": "2022-01-18T10:22:47.426224Z"
    }
   },
   "outputs": [],
   "source": [
    "display_answer(hw4.answers.part1_q1)"
   ]
  },
  {
   "cell_type": "markdown",
   "metadata": {},
   "source": [
    "### Question 2\n",
    "\n",
    "In AAC, when using the estimated q-values as regression targets for our state-values, why do we get a valid approximation?\n",
    "Hint: how is $v_\\pi(s)$ expressed in terms of $q_\\pi(s,a)$?"
   ]
  },
  {
   "cell_type": "code",
   "execution_count": null,
   "metadata": {
    "execution": {
     "iopub.execute_input": "2022-01-18T10:22:47.429988Z",
     "iopub.status.busy": "2022-01-18T10:22:47.429208Z",
     "iopub.status.idle": "2022-01-18T10:22:47.450702Z",
     "shell.execute_reply": "2022-01-18T10:22:47.451082Z"
    }
   },
   "outputs": [],
   "source": [
    "display_answer(hw4.answers.part1_q2)"
   ]
  },
  {
   "cell_type": "markdown",
   "metadata": {},
   "source": [
    "### Question 3\n",
    "\n",
    "1. Analyze and explain the graphs you got in first experiment run.\n",
    "2. Compare the experiment graphs you got with the AAC method to the regular PG method (`cpg`)."
   ]
  },
  {
   "cell_type": "code",
   "execution_count": null,
   "metadata": {
    "execution": {
     "iopub.execute_input": "2022-01-18T10:22:47.454864Z",
     "iopub.status.busy": "2022-01-18T10:22:47.454079Z",
     "iopub.status.idle": "2022-01-18T10:22:47.475698Z",
     "shell.execute_reply": "2022-01-18T10:22:47.476075Z"
    },
    "tags": []
   },
   "outputs": [],
   "source": [
    "display_answer(hw4.answers.part1_q3)"
   ]
  }
 ],
 "metadata": {
  "kernelspec": {
   "display_name": "Python 3 (ipykernel)",
   "language": "python",
   "name": "python3"
  },
  "language_info": {
   "codemirror_mode": {
    "name": "ipython",
    "version": 3
   },
   "file_extension": ".py",
   "mimetype": "text/x-python",
   "name": "python",
   "nbconvert_exporter": "python",
   "pygments_lexer": "ipython3",
   "version": "3.8.12"
  }
 },
 "nbformat": 4,
 "nbformat_minor": 4
}
